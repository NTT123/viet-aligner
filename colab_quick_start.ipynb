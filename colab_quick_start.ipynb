{
 "cells": [
  {
   "cell_type": "code",
   "execution_count": null,
   "metadata": {},
   "outputs": [],
   "source": [
    "# install sox\n",
    "!sudo apt install -y sox libsox-fmt-mp3"
   ]
  },
  {
   "cell_type": "code",
   "execution_count": null,
   "metadata": {},
   "outputs": [],
   "source": [
    "!git clone https://github.com/NTT123/viet-aligner.git\n",
    "%cd viet-aligner/"
   ]
  },
  {
   "cell_type": "code",
   "execution_count": null,
   "metadata": {},
   "outputs": [],
   "source": [
    "# download data\n",
    "!python download_infore.py --output-dir data\n",
    "!python download_vivos.py --output-dir data\n",
    "!python download_common_voice.py --output-dir data\n",
    "!python download_fpt_open_speech.py --output-dir data\n",
    "!python create_lexicon.py --data-dir data"
   ]
  },
  {
   "cell_type": "code",
   "execution_count": null,
   "metadata": {},
   "outputs": [],
   "source": [
    "%%writefile install_mfa.sh\n",
    "#!/bin/bash\n",
    "\n",
    "## a script to install Montreal Forced Aligner (MFA)\n",
    "\n",
    "root_dir=${1:-/tmp/mfa}\n",
    "mkdir -p $root_dir\n",
    "cd $root_dir\n",
    "\n",
    "# download miniconda3\n",
    "wget -q --show-progress https://repo.anaconda.com/miniconda/Miniconda3-latest-Linux-x86_64.sh\n",
    "bash Miniconda3-latest-Linux-x86_64.sh -b -p $root_dir/miniconda3 -f\n",
    "\n",
    "#install MFA\n",
    "$root_dir/miniconda3/bin/conda create -n aligner -c conda-forge montreal-forced-aligner -y"
   ]
  },
  {
   "cell_type": "code",
   "execution_count": null,
   "metadata": {},
   "outputs": [],
   "source": [
    "# download and install mfa\n",
    "!bash ./install_mfa.sh ./mfa"
   ]
  },
  {
   "cell_type": "code",
   "execution_count": null,
   "metadata": {},
   "outputs": [],
   "source": [
    "!source ./mfa/mfa/miniconda3/bin/activate aligner; mfa train -o ./mfa_vi_model --clean -t mfa_tmp ./data ./data/lexicon.txt mfa_output"
   ]
  }
 ],
 "metadata": {
  "language_info": {
   "name": "python"
  },
  "orig_nbformat": 4
 },
 "nbformat": 4,
 "nbformat_minor": 2
}
